{
 "cells": [
  {
   "cell_type": "code",
   "execution_count": null,
   "metadata": {},
   "outputs": [],
   "source": [
    "%reload_ext autoreload\n",
    "%autoreload 2"
   ]
  },
  {
   "cell_type": "code",
   "execution_count": null,
   "metadata": {},
   "outputs": [],
   "source": [
    "import os\n",
    "os.chdir(\"..\")  # Move up one level to the project root"
   ]
  },
  {
   "cell_type": "code",
   "execution_count": null,
   "metadata": {},
   "outputs": [],
   "source": [
    "import pandas as pd\n",
    "import plotly.express as px\n",
    "from src.time_series.preprocessing import PrePro\n",
    "from src.time_series.validation import Validation\n",
    "from src.time_series.analysis import Analysis\n",
    "from statsmodels.tsa.stattools import acf\n",
    "import plotly.graph_objects as go\n",
    "from statsmodels.tsa.seasonal import STL\n",
    "import statsmodels.api as sm\n",
    "import numpy as np\n",
    "from statsmodels.tsa.arima.model import ARIMA"
   ]
  },
  {
   "cell_type": "code",
   "execution_count": null,
   "metadata": {},
   "outputs": [],
   "source": [
    "print(os.getcwd())"
   ]
  },
  {
   "cell_type": "code",
   "execution_count": null,
   "metadata": {},
   "outputs": [],
   "source": [
    "#\"/Users/omare/Desktop/personal_project/time-series/data/DailyDelhiClimateTrain.csv\"\n",
    "\n",
    "file_path_train = \"./data/DailyDelhiClimateTrain.csv\"\n",
    "file_path_test = \"./data/DailyDelhiClimateTest.csv\""
   ]
  },
  {
   "cell_type": "code",
   "execution_count": null,
   "metadata": {},
   "outputs": [],
   "source": [
    "train_data = pd.read_csv(file_path_train)\n",
    "test_data = pd.read_csv(file_path_test)"
   ]
  },
  {
   "cell_type": "code",
   "execution_count": null,
   "metadata": {},
   "outputs": [],
   "source": [
    "prepro = PrePro()\n",
    "validation = Validation()\n",
    "analysis = Analysis()"
   ]
  },
  {
   "cell_type": "code",
   "execution_count": null,
   "metadata": {},
   "outputs": [],
   "source": [
    "prepro.to_datetime(df=train_data, name_column=\"date\")\n",
    "prepro.to_datetime(df=test_data, name_column=\"date\")"
   ]
  },
  {
   "cell_type": "code",
   "execution_count": null,
   "metadata": {},
   "outputs": [],
   "source": [
    "train_data.info()"
   ]
  },
  {
   "cell_type": "code",
   "execution_count": null,
   "metadata": {},
   "outputs": [],
   "source": [
    "validation.plot_time_series(df=train_data, x=\"date\", y=\"meantemp\", title=f\"time series temperature\")"
   ]
  },
  {
   "cell_type": "code",
   "execution_count": null,
   "metadata": {},
   "outputs": [],
   "source": [
    "rolling_window_plot, adfuller_test=analysis.check_stationarity(train_data, name=\"meantemp\", window_size=12)"
   ]
  },
  {
   "cell_type": "code",
   "execution_count": null,
   "metadata": {},
   "outputs": [],
   "source": [
    "analysis.acf_plot(train_data, \"meantemp\", 3000)"
   ]
  },
  {
   "cell_type": "code",
   "execution_count": null,
   "metadata": {},
   "outputs": [],
   "source": [
    "# I take the seasonality as the difference in lag between two peaks\n",
    "fig, result = analysis.decomposition_time_series(train_data, \"meantemp\", 362, \"Mean Temp\" )"
   ]
  },
  {
   "cell_type": "code",
   "execution_count": null,
   "metadata": {},
   "outputs": [],
   "source": [
    "fig"
   ]
  },
  {
   "cell_type": "code",
   "execution_count": null,
   "metadata": {},
   "outputs": [],
   "source": [
    "residuals = pd.DataFrame({\"meantemp\":result.resid, \"date_datetime\":train_data[\"date_datetime\"]})\n",
    "trend = pd.DataFrame({\"meantemp\":result.trend, \"date_datetime\":train_data[\"date_datetime\"]})\n",
    "seasonality = pd.DataFrame({\"meantemp\":result.seasonal, \"date_datetime\":train_data[\"date_datetime\"]})"
   ]
  },
  {
   "cell_type": "code",
   "execution_count": null,
   "metadata": {},
   "outputs": [],
   "source": [
    "validation.plot_time_series(df=residuals, x=\"date_datetime\", y=\"meantemp\", title=f\"time series temperature\")"
   ]
  },
  {
   "cell_type": "code",
   "execution_count": null,
   "metadata": {},
   "outputs": [],
   "source": [
    "rolling_window_plot, adfuller_test=analysis.check_stationarity(residuals, name=\"meantemp\", window_size=12)"
   ]
  },
  {
   "cell_type": "code",
   "execution_count": null,
   "metadata": {},
   "outputs": [],
   "source": [
    "rolling_window_plot"
   ]
  },
  {
   "cell_type": "code",
   "execution_count": null,
   "metadata": {},
   "outputs": [],
   "source": [
    "adfuller_test"
   ]
  },
  {
   "cell_type": "code",
   "execution_count": null,
   "metadata": {},
   "outputs": [],
   "source": [
    "analysis.acf_plot(residuals, \"meantemp\", 40)\n",
    "# Mi sembra che sia autoregressiva. Non so se c'è anche una componente di mooving average."
   ]
  },
  {
   "cell_type": "code",
   "execution_count": null,
   "metadata": {},
   "outputs": [],
   "source": [
    "analysis.pacf_plot(residuals, \"meantemp\", 40)"
   ]
  },
  {
   "cell_type": "code",
   "execution_count": null,
   "metadata": {},
   "outputs": [],
   "source": [
    "forecast_residuals = analysis.forecast_component(residuals,test_data, (1,0,1),)\n",
    "forecast_trend = analysis.forecast_component(trend, test_data, (1,4,1))\n",
    "forecast_residuals.reset_index(inplace=True)\n",
    "forecast_trend.reset_index(inplace=True)"
   ]
  },
  {
   "cell_type": "code",
   "execution_count": null,
   "metadata": {},
   "outputs": [],
   "source": [
    "start_date = test_data[\"date_datetime\"].iloc[0]\n",
    "end_date = test_data[\"date_datetime\"].iloc[-1]\n",
    "print(start_date, end_date)\n"
   ]
  },
  {
   "cell_type": "code",
   "execution_count": null,
   "metadata": {},
   "outputs": [],
   "source": [
    "start_date_seasonal = \"2013-01-01\"\n",
    "end_date_seasonal = \"2013-04-24\"\n",
    "start_date_seasonal = pd.to_datetime(start_date_seasonal)\n",
    "end_date_seasonal = pd.to_datetime(end_date_seasonal)\n",
    "\n",
    "forecast_seasonal = seasonality[(seasonality['date_datetime'] >= start_date_seasonal) & (seasonality['date_datetime'] <= end_date_seasonal)]\n",
    "\n",
    "# Display the resulting DataFrame\n",
    "forecast_seasonal.reset_index(inplace=True)"
   ]
  },
  {
   "cell_type": "code",
   "execution_count": null,
   "metadata": {},
   "outputs": [],
   "source": [
    "forecast = pd.DataFrame()\n",
    "forecast[\"meantemp\"] = forecast_trend[\"forecast\"] + forecast_seasonal[\"meantemp\"]+ forecast_residuals[\"forecast\"]\n",
    "forecast[\"date_datetime\"] = forecast_trend[\"date_datetime\"]"
   ]
  },
  {
   "cell_type": "code",
   "execution_count": null,
   "metadata": {},
   "outputs": [],
   "source": [
    "mse = validation.mse_error(forecast, test_data, \"meantemp\" )\n",
    "print(f\"Mean squared error: {round(mse,2)} %\")"
   ]
  },
  {
   "cell_type": "code",
   "execution_count": null,
   "metadata": {},
   "outputs": [],
   "source": [
    "validation.evaluate_forecast_plot(forecast, test_data, \"meantemp\", \"Mean Temperature\" )"
   ]
  },
  {
   "cell_type": "code",
   "execution_count": null,
   "metadata": {},
   "outputs": [],
   "source": []
  }
 ],
 "metadata": {
  "kernelspec": {
   "display_name": "time-series-25lVvGbv-py3.9",
   "language": "python",
   "name": "python3"
  },
  "language_info": {
   "codemirror_mode": {
    "name": "ipython",
    "version": 3
   },
   "file_extension": ".py",
   "mimetype": "text/x-python",
   "name": "python",
   "nbconvert_exporter": "python",
   "pygments_lexer": "ipython3",
   "version": "3.9.7"
  }
 },
 "nbformat": 4,
 "nbformat_minor": 2
}
